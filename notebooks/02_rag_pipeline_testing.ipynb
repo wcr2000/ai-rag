{
 "cells": [
  {
   "cell_type": "markdown",
   "id": "fbc1bbe3",
   "metadata": {},
   "source": [
    "# Notebook 2: RAG Pipeline Testing\n",
    "\n",
    "**Objective:** This notebook demonstrates how to use the complete RAG pipeline to ask questions and get answers based on the previously built vector store.\n",
    "\n",
    "**Prerequisite:** Ensure that `01_data_preprocessing_and_embedding.ipynb` (or `python main.py build`) has been run successfully to create the `vector_store_index/faiss_index`.\n",
    "\n",
    "**Steps:**\n",
    "1. Setup: Import necessary libraries and configure paths.\n",
    "2. Initialize RAG Pipeline: Create an instance of `RAGPipeline` from `src.rag_pipeline`.\n",
    "3. Ask Questions: Use the `ask()` method of the pipeline.\n",
    "4. Review Results: Examine the generated answer and retrieved source documents."
   ]
  },
  {
   "cell_type": "code",
   "execution_count": null,
   "id": "9287193c",
   "metadata": {},
   "outputs": [],
   "source": [
    "import sys\n",
    "import os\n",
    "from pathlib import Path\n",
    "\n",
    "# Add project root to sys.path\n",
    "project_root = Path(os.getcwd()).parent \n",
    "if str(project_root) not in sys.path:\n",
    "    sys.path.append(str(project_root))\n",
    "\n",
    "# Imports from our project\n",
    "from src import config # This will also load .env\n",
    "from src.rag_pipeline import RAGPipeline\n",
    "\n",
    "print(f\"Project Root: {project_root}\")\n",
    "print(f\"OpenAI API Key Loaded: {'Yes' if config.OPENAI_API_KEY else 'No (Please check .env file!)'}\")\n",
    "print(f\"Vector Store Path: {config.VECTOR_STORE_PATH}\")"
   ]
  },
  {
   "cell_type": "markdown",
   "id": "6e81c887",
   "metadata": {},
   "source": [
    "## 1. Check if Vector Store Exists"
   ]
  },
  {
   "cell_type": "code",
   "execution_count": null,
   "id": "02583c39",
   "metadata": {},
   "outputs": [],
   "source": [
    "if not config.VECTOR_STORE_PATH.exists():\n",
    "    print(f\"ERROR: Vector store not found at {config.VECTOR_STORE_PATH}\")\n",
    "    print(\"Please run Notebook 01 or 'python main.py build' first to create it.\")\n",
    "    # You might want to stop execution here or handle this more gracefully\n",
    "    # For a notebook, just printing the error is often enough.\n",
    "    rag_system = None\n",
    "else:\n",
    "    print(\"Vector store found. Proceeding to initialize RAG pipeline.\")\n",
    "    try:\n",
    "        rag_system = RAGPipeline()\n",
    "        print(\"RAG Pipeline initialized successfully.\")\n",
    "    except RuntimeError as e:\n",
    "        print(f\"RuntimeError initializing RAGPipeline: {e}\")\n",
    "        rag_system = None\n",
    "    except Exception as e:\n",
    "        print(f\"An unexpected error occurred during RAGPipeline initialization: {e}\")\n",
    "        rag_system = None"
   ]
  },
  {
   "cell_type": "markdown",
   "id": "d832bc59",
   "metadata": {},
   "source": [
    "## 2. Ask Questions using the RAG Pipeline"
   ]
  },
  {
   "cell_type": "code",
   "execution_count": null,
   "id": "26d7cf1e",
   "metadata": {},
   "outputs": [],
   "source": [
    "def ask_and_display(pipeline, query):\n",
    "    if pipeline is None:\n",
    "        print(\"RAG system is not initialized. Cannot ask questions.\")\n",
    "        return\n",
    "    \n",
    "    print(f\"\\n{'='*20} QUERY {'='*20}\")\n",
    "    print(f\"Question: {query}\")\n",
    "    \n",
    "    response = pipeline.ask(query)\n",
    "    \n",
    "    print(f\"\\n{'--'*10} ANSWER {'--'*10}\")\n",
    "    print(response.get(\"answer\", \"No answer provided.\"))\n",
    "    \n",
    "    source_docs = response.get(\"source_documents\", [])\n",
    "    if source_docs:\n",
    "        print(f\"\\n{'--'*10} SOURCES ({len(source_docs)}) {'--'*10}\")\n",
    "        for i, doc in enumerate(source_docs):\n",
    "            source_name = doc.metadata.get('source', 'Unknown source')\n",
    "            page_number = doc.metadata.get('page', None)\n",
    "            source_info = f\"{source_name}\"\n",
    "            if page_number:\n",
    "                source_info += f\" (Page {page_number})\"\n",
    "            print(f\"  [{i+1}] {source_info}\")\n",
    "            print(f\"      Content snippet: {doc.page_content[:150].replace('\\n', ' ')}...\")\n",
    "    print(f\"{'='*50}\\n\")\n",
    "\n",
    "# Example Questions (assuming sample_document.txt is used)\n",
    "queries = [\n",
    "    \"What is RAG?\",\n",
    "    \"How does Retrieval Augmented Generation help LLMs?\",\n",
    "    \"What are the typical steps in a RAG process?\",\n",
    "    \"What tools are mentioned for building RAG systems?\",\n",
    "    \"What is the capital of France?\" # A question likely not in the sample document\n",
    "]\n",
    "\n",
    "if rag_system:\n",
    "    for q in queries:\n",
    "        ask_and_display(rag_system, q)\n",
    "else:\n",
    "    print(\"Cannot run queries as RAG system failed to initialize.\")"
   ]
  },
  {
   "cell_type": "markdown",
   "id": "af5eb039",
   "metadata": {},
   "source": [
    "--- End of Notebook 2 ---"
   ]
  }
 ],
 "metadata": {
  "kernelspec": {
   "display_name": "Python 3 (ipykernel)",
   "language": "python",
   "name": "python3"
  },
  "language_info": {
   "codemirror_mode": {
    "name": "ipython",
    "version": 3
   },
   "file_extension": ".py",
   "mimetype": "text/x-python",
   "name": "python",
   "nbconvert_exporter": "python",
   "pygments_lexer": "ipython3",
   "version": "3.9.12"
  }
 },
 "nbformat": 4,
 "nbformat_minor": 5
}
